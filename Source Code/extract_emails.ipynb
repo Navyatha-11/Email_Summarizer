{
 "cells": [
  {
   "cell_type": "code",
   "execution_count": 1,
   "id": "c1a35860-b620-4bb4-873e-18bbc83464fc",
   "metadata": {
    "scrolled": true
   },
   "outputs": [
    {
     "name": "stdout",
     "output_type": "stream",
     "text": [
      "Requirement already satisfied: google-api-python-client in c:\\users\\navya\\anaconda3\\lib\\site-packages (2.181.0)\n",
      "Requirement already satisfied: google-auth-httplib2 in c:\\users\\navya\\anaconda3\\lib\\site-packages (0.2.0)\n",
      "Requirement already satisfied: google-auth-oauthlib in c:\\users\\navya\\anaconda3\\lib\\site-packages (1.2.2)\n",
      "Requirement already satisfied: tqdm in c:\\users\\navya\\anaconda3\\lib\\site-packages (4.67.1)\n",
      "Requirement already satisfied: beautifulsoup4 in c:\\users\\navya\\anaconda3\\lib\\site-packages (4.13.5)\n",
      "Requirement already satisfied: httplib2<1.0.0,>=0.19.0 in c:\\users\\navya\\anaconda3\\lib\\site-packages (from google-api-python-client) (0.31.0)\n",
      "Requirement already satisfied: google-auth!=2.24.0,!=2.25.0,<3.0.0,>=1.32.0 in c:\\users\\navya\\anaconda3\\lib\\site-packages (from google-api-python-client) (2.40.3)\n",
      "Requirement already satisfied: google-api-core!=2.0.*,!=2.1.*,!=2.2.*,!=2.3.0,<3.0.0,>=1.31.5 in c:\\users\\navya\\anaconda3\\lib\\site-packages (from google-api-python-client) (2.25.1)\n",
      "Requirement already satisfied: uritemplate<5,>=3.0.1 in c:\\users\\navya\\anaconda3\\lib\\site-packages (from google-api-python-client) (4.2.0)\n",
      "Requirement already satisfied: googleapis-common-protos<2.0.0,>=1.56.2 in c:\\users\\navya\\anaconda3\\lib\\site-packages (from google-api-core!=2.0.*,!=2.1.*,!=2.2.*,!=2.3.0,<3.0.0,>=1.31.5->google-api-python-client) (1.70.0)\n",
      "Requirement already satisfied: protobuf!=3.20.0,!=3.20.1,!=4.21.0,!=4.21.1,!=4.21.2,!=4.21.3,!=4.21.4,!=4.21.5,<7.0.0,>=3.19.5 in c:\\users\\navya\\anaconda3\\lib\\site-packages (from google-api-core!=2.0.*,!=2.1.*,!=2.2.*,!=2.3.0,<3.0.0,>=1.31.5->google-api-python-client) (5.29.3)\n",
      "Requirement already satisfied: proto-plus<2.0.0,>=1.22.3 in c:\\users\\navya\\anaconda3\\lib\\site-packages (from google-api-core!=2.0.*,!=2.1.*,!=2.2.*,!=2.3.0,<3.0.0,>=1.31.5->google-api-python-client) (1.26.1)\n",
      "Requirement already satisfied: requests<3.0.0,>=2.18.0 in c:\\users\\navya\\anaconda3\\lib\\site-packages (from google-api-core!=2.0.*,!=2.1.*,!=2.2.*,!=2.3.0,<3.0.0,>=1.31.5->google-api-python-client) (2.32.3)\n",
      "Requirement already satisfied: cachetools<6.0,>=2.0.0 in c:\\users\\navya\\anaconda3\\lib\\site-packages (from google-auth!=2.24.0,!=2.25.0,<3.0.0,>=1.32.0->google-api-python-client) (5.5.1)\n",
      "Requirement already satisfied: pyasn1-modules>=0.2.1 in c:\\users\\navya\\anaconda3\\lib\\site-packages (from google-auth!=2.24.0,!=2.25.0,<3.0.0,>=1.32.0->google-api-python-client) (0.2.8)\n",
      "Requirement already satisfied: rsa<5,>=3.1.4 in c:\\users\\navya\\anaconda3\\lib\\site-packages (from google-auth!=2.24.0,!=2.25.0,<3.0.0,>=1.32.0->google-api-python-client) (4.9.1)\n",
      "Requirement already satisfied: pyparsing<4,>=3.0.4 in c:\\users\\navya\\anaconda3\\lib\\site-packages (from httplib2<1.0.0,>=0.19.0->google-api-python-client) (3.2.0)\n",
      "Requirement already satisfied: charset-normalizer<4,>=2 in c:\\users\\navya\\anaconda3\\lib\\site-packages (from requests<3.0.0,>=2.18.0->google-api-core!=2.0.*,!=2.1.*,!=2.2.*,!=2.3.0,<3.0.0,>=1.31.5->google-api-python-client) (3.3.2)\n",
      "Requirement already satisfied: idna<4,>=2.5 in c:\\users\\navya\\anaconda3\\lib\\site-packages (from requests<3.0.0,>=2.18.0->google-api-core!=2.0.*,!=2.1.*,!=2.2.*,!=2.3.0,<3.0.0,>=1.31.5->google-api-python-client) (3.7)\n",
      "Requirement already satisfied: urllib3<3,>=1.21.1 in c:\\users\\navya\\anaconda3\\lib\\site-packages (from requests<3.0.0,>=2.18.0->google-api-core!=2.0.*,!=2.1.*,!=2.2.*,!=2.3.0,<3.0.0,>=1.31.5->google-api-python-client) (2.3.0)\n",
      "Requirement already satisfied: certifi>=2017.4.17 in c:\\users\\navya\\anaconda3\\lib\\site-packages (from requests<3.0.0,>=2.18.0->google-api-core!=2.0.*,!=2.1.*,!=2.2.*,!=2.3.0,<3.0.0,>=1.31.5->google-api-python-client) (2025.8.3)\n",
      "Requirement already satisfied: pyasn1>=0.1.3 in c:\\users\\navya\\anaconda3\\lib\\site-packages (from rsa<5,>=3.1.4->google-auth!=2.24.0,!=2.25.0,<3.0.0,>=1.32.0->google-api-python-client) (0.4.8)\n",
      "Requirement already satisfied: requests-oauthlib>=0.7.0 in c:\\users\\navya\\anaconda3\\lib\\site-packages (from google-auth-oauthlib) (2.0.0)\n",
      "Requirement already satisfied: colorama in c:\\users\\navya\\anaconda3\\lib\\site-packages (from tqdm) (0.4.6)\n",
      "Requirement already satisfied: soupsieve>1.2 in c:\\users\\navya\\anaconda3\\lib\\site-packages (from beautifulsoup4) (2.5)\n",
      "Requirement already satisfied: typing-extensions>=4.0.0 in c:\\users\\navya\\anaconda3\\lib\\site-packages (from beautifulsoup4) (4.12.2)\n",
      "Requirement already satisfied: oauthlib>=3.0.0 in c:\\users\\navya\\anaconda3\\lib\\site-packages (from requests-oauthlib>=0.7.0->google-auth-oauthlib) (3.3.1)\n"
     ]
    }
   ],
   "source": [
    "# Jupyter cell: run as a shell command (start with !)\n",
    "!pip install --upgrade google-api-python-client google-auth-httplib2 google-auth-oauthlib tqdm beautifulsoup4\n"
   ]
  },
  {
   "cell_type": "code",
   "execution_count": 2,
   "id": "0a19ffec-437b-43cf-936c-fa9aec2bd866",
   "metadata": {},
   "outputs": [
    {
     "name": "stdout",
     "output_type": "stream",
     "text": [
      "Project root: C:\\Users\\navya\\Desktop\\IBY\n",
      "Credentials file exists: True\n"
     ]
    }
   ],
   "source": [
    "import os\n",
    "import json\n",
    "import base64\n",
    "from pathlib import Path\n",
    "from google.oauth2.credentials import Credentials\n",
    "from google_auth_oauthlib.flow import InstalledAppFlow\n",
    "from google.auth.transport.requests import Request\n",
    "from googleapiclient.discovery import build\n",
    "from googleapiclient.errors import HttpError\n",
    "from bs4 import BeautifulSoup\n",
    "from tqdm import tqdm\n",
    "\n",
    "# Project paths\n",
    "PROJECT_ROOT = Path(\"C:/Users/navya/Desktop/IBY\")  \n",
    "CREDS_FILE = PROJECT_ROOT / \"credentials.json\"\n",
    "TOKEN_FILE = PROJECT_ROOT / \"token.json\"\n",
    "DATA_DIR = PROJECT_ROOT / \"data\"\n",
    "OUT_JSONL = DATA_DIR / \"emails_raw.jsonl\"\n",
    "\n",
    "# Gmail read-only scope\n",
    "SCOPES = [\"https://www.googleapis.com/auth/gmail.readonly\"]\n",
    "\n",
    "# Create data directory if it doesn't exist\n",
    "DATA_DIR.mkdir(exist_ok=True)\n",
    "\n",
    "print(\"Project root:\", PROJECT_ROOT.resolve())\n",
    "print(\"Credentials file exists:\", CREDS_FILE.exists())\n"
   ]
  },
  {
   "cell_type": "code",
   "execution_count": 3,
   "id": "0c4eb37e-2bf5-4d79-8ec8-d400e66fe9f8",
   "metadata": {},
   "outputs": [
    {
     "name": "stdout",
     "output_type": "stream",
     "text": [
      "Refreshed expired token.\n",
      "Saved token.json to: C:\\Users\\navya\\Desktop\\IBY\\token.json\n",
      "Gmail API service ready: True\n"
     ]
    }
   ],
   "source": [
    "from google.oauth2.credentials import Credentials\n",
    "from google_auth_oauthlib.flow import InstalledAppFlow\n",
    "from google.auth.transport.requests import Request\n",
    "from googleapiclient.discovery import build\n",
    "\n",
    "SCOPES = [\"https://www.googleapis.com/auth/gmail.readonly\"]  # read-only Gmail access\n",
    "\n",
    "def get_gmail_service(creds_file=CREDS_FILE, token_file=TOKEN_FILE, scopes=SCOPES):\n",
    "    creds = None\n",
    "\n",
    "    # 1) Load existing token.json if it exists\n",
    "    if token_file.exists():\n",
    "        creds = Credentials.from_authorized_user_file(str(token_file), scopes)\n",
    "    \n",
    "    # 2) If no valid creds, either refresh or run OAuth flow\n",
    "    if not creds or not creds.valid:\n",
    "        if creds and creds.expired and creds.refresh_token:\n",
    "            creds.refresh(Request())\n",
    "            print(\"Refreshed expired token.\")\n",
    "        else:\n",
    "            flow = InstalledAppFlow.from_client_secrets_file(str(creds_file), scopes)\n",
    "            creds = flow.run_local_server(port=0)  # opens browser to log in and approve\n",
    "            print(\"Completed OAuth flow in browser.\")\n",
    "        \n",
    "        # Save token.json for future use\n",
    "        token_file.write_text(creds.to_json())\n",
    "        print(\"Saved token.json to:\", token_file)\n",
    "\n",
    "    # 3) Build Gmail API service object\n",
    "    service = build(\"gmail\", \"v1\", credentials=creds)\n",
    "    return service\n",
    "\n",
    "# Run this cell — the first time it will open a browser to log in\n",
    "service = get_gmail_service()\n",
    "print(\"Gmail API service ready:\", bool(service))\n"
   ]
  },
  {
   "cell_type": "code",
   "execution_count": 4,
   "id": "aa8d50a0-7b2f-4ace-8188-a0d570068429",
   "metadata": {},
   "outputs": [
    {
     "name": "stderr",
     "output_type": "stream",
     "text": [
      "100%|████████████████████████████████████████████████████████████████████████████████| 500/500 [05:59<00:00,  1.39it/s]"
     ]
    },
    {
     "name": "stdout",
     "output_type": "stream",
     "text": [
      "Saved 500 emails to C:\\Users\\navya\\Desktop\\IBY\\data\\emails_raw.jsonl\n"
     ]
    },
    {
     "name": "stderr",
     "output_type": "stream",
     "text": [
      "\n"
     ]
    }
   ],
   "source": [
    "import base64\n",
    "from bs4 import BeautifulSoup\n",
    "from tqdm import tqdm\n",
    "import json\n",
    "\n",
    "# Function to list message IDs\n",
    "def list_message_ids(service, max_results=100, user_id=\"me\"):\n",
    "    \"\"\"Return a list of Gmail message IDs\"\"\"\n",
    "    try:\n",
    "        response = service.users().messages().list(userId=user_id, maxResults=max_results).execute()\n",
    "        return response.get(\"messages\", [])\n",
    "    except Exception as e:\n",
    "        print(\"Error listing messages:\", e)\n",
    "        return []\n",
    "\n",
    "# Function to fetch full message\n",
    "def get_message(service, msg_id, user_id=\"me\"):\n",
    "    try:\n",
    "        msg = service.users().messages().get(userId=user_id, id=msg_id, format=\"full\").execute()\n",
    "        return msg\n",
    "    except Exception as e:\n",
    "        print(\"Error fetching message:\", e)\n",
    "        return None\n",
    "\n",
    "# Function to parse message\n",
    "def parse_message(msg):\n",
    "    \"\"\"Extract subject, sender, date, body\"\"\"\n",
    "    headers = {h['name']: h['value'] for h in msg['payload']['headers']}\n",
    "    subject = headers.get('Subject', '')\n",
    "    sender = headers.get('From', '')\n",
    "    date = headers.get('Date', '')\n",
    "    \n",
    "    # Extract body\n",
    "    body = \"\"\n",
    "    parts = msg['payload'].get('parts', [])\n",
    "    if parts:\n",
    "        for p in parts:\n",
    "            if p['mimeType'] == 'text/plain' and 'data' in p['body']:\n",
    "                body = base64.urlsafe_b64decode(p['body']['data']).decode()\n",
    "                break\n",
    "            elif p['mimeType'] == 'text/html' and 'data' in p['body']:\n",
    "                html = base64.urlsafe_b64decode(p['body']['data']).decode()\n",
    "                body = BeautifulSoup(html, \"html.parser\").get_text()\n",
    "                break\n",
    "    else:\n",
    "        if 'body' in msg['payload'] and 'data' in msg['payload']['body']:\n",
    "            body = base64.urlsafe_b64decode(msg['payload']['body']['data']).decode()\n",
    "    \n",
    "    return {\n",
    "        \"subject\": subject,\n",
    "        \"from\": sender,\n",
    "        \"date\": date,\n",
    "        \"body\": body\n",
    "    }\n",
    "\n",
    "# Fetch emails\n",
    "message_ids = list_message_ids(service, max_results=1000)  # change 50 to higher number if needed\n",
    "emails = []\n",
    "\n",
    "for m in tqdm(message_ids):\n",
    "    msg = get_message(service, m['id'])\n",
    "    if msg:\n",
    "        emails.append(parse_message(msg))\n",
    "\n",
    "# Save to JSONL\n",
    "OUT_JSONL.parent.mkdir(exist_ok=True)  # ensure data/ exists\n",
    "with open(OUT_JSONL, \"w\", encoding=\"utf-8\") as f:\n",
    "    for email in emails:\n",
    "        f.write(json.dumps(email, ensure_ascii=False) + \"\\n\")\n",
    "\n",
    "print(f\"Saved {len(emails)} emails to {OUT_JSONL}\")\n"
   ]
  }
 ],
 "metadata": {
  "kernelspec": {
   "display_name": "Python [conda env:base] *",
   "language": "python",
   "name": "conda-base-py"
  },
  "language_info": {
   "codemirror_mode": {
    "name": "ipython",
    "version": 3
   },
   "file_extension": ".py",
   "mimetype": "text/x-python",
   "name": "python",
   "nbconvert_exporter": "python",
   "pygments_lexer": "ipython3",
   "version": "3.13.5"
  }
 },
 "nbformat": 4,
 "nbformat_minor": 5
}
